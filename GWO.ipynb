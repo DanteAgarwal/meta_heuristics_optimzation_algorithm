{
  "cells": [
    {
      "cell_type": "markdown",
      "metadata": {
        "id": "view-in-github",
        "colab_type": "text"
      },
      "source": [
        "<a href=\"https://colab.research.google.com/github/DanteAgarwal/meta_heuristics_optimzation_algorithm/blob/main/GWO.ipynb\" target=\"_parent\"><img src=\"https://colab.research.google.com/assets/colab-badge.svg\" alt=\"Open In Colab\"/></a>"
      ]
    },
    {
      "cell_type": "code",
      "execution_count": null,
      "metadata": {
        "id": "WLijSsCQYwec"
      },
      "outputs": [],
      "source": [
        "import random\n",
        "import time\n",
        "\n",
        "import matplotlib.pyplot as plt\n",
        "import numpy as np\n",
        "\n",
        "\n",
        "def GWO(objf, lb, ub, dim, SearchAgents_no, Max_iter):\n",
        "    # Max_iter=1000\n",
        "    # lb=-100\n",
        "    # ub=100\n",
        "    # dim=30\n",
        "    # SearchAgents_no=5\n",
        "    # initialize alpha, beta, and delta_pos\n",
        "    Alpha_pos = np.zeros(dim)\n",
        "    Alpha_score = float(\"inf\")\n",
        "\n",
        "    Beta_pos = np.zeros(dim)\n",
        "    Beta_score = float(\"inf\")\n",
        "\n",
        "    Delta_pos = np.zeros(dim)\n",
        "    Delta_score = float(\"inf\")\n",
        "\n",
        "    if not isinstance(lb, list):\n",
        "        lb = [lb] * dim\n",
        "    if not isinstance(ub, list):\n",
        "        ub = [ub] * dim\n",
        "\n",
        "    # Initialize the positions of search agents\n",
        "    Positions = np.zeros((SearchAgents_no, dim))\n",
        "    for i in range(dim):\n",
        "        Positions[:, i] = np.random.uniform(0, 1, SearchAgents_no) * (ub[i] - lb[i]) + lb[i]\n",
        "\n",
        "    Convergence_curve = np.zeros(Max_iter)\n",
        "\n",
        "    # Loop counter\n",
        "    print(\"GWO is optimizing  \\\"\" + objf.__name__ + \"\\\"\")\n",
        "\n",
        "    timerStart = time.time()\n",
        "    # Main loop\n",
        "    for l in range(0, Max_iter):\n",
        "        for i in range(0, SearchAgents_no):\n",
        "\n",
        "            # Return back the search agents that go beyond the boundaries of the search space\n",
        "            for j in range(dim):\n",
        "                Positions[i, j] = np.clip(Positions[i, j], lb[j], ub[j])\n",
        "\n",
        "            # Calculate objective function for each search agent\n",
        "            fitness = objf(Positions[i, :])\n",
        "\n",
        "            # Update Alpha, Beta, and Delta\n",
        "            if fitness < Alpha_score:\n",
        "                Alpha_score = fitness;  # Update alpha\n",
        "                Alpha_pos = Positions[i, :].copy()\n",
        "\n",
        "            if (fitness > Alpha_score and fitness < Beta_score):\n",
        "                Beta_score = fitness  # Update beta\n",
        "                Beta_pos = Positions[i, :].copy()\n",
        "\n",
        "            if (fitness > Alpha_score and fitness > Beta_score and fitness < Delta_score):\n",
        "                Delta_score = fitness  # Update delta\n",
        "                Delta_pos = Positions[i, :].copy()\n",
        "\n",
        "        a = 2 - l * ((2) / Max_iter);  # a decreases linearly from 2 to 0\n",
        "\n",
        "        # Update the Position of search agents including omegas\n",
        "        for i in range(0, SearchAgents_no):\n",
        "            for j in range(0, dim):\n",
        "                r1 = random.random()  # r1 is a random number in [0,1]\n",
        "                r2 = random.random()  # r2 is a random number in [0,1]\n",
        "\n",
        "                A1 = 2 * a * r1 - a;  # Equation (3.3)\n",
        "                C1 = 2 * r2;  # Equation (3.4)\n",
        "\n",
        "                D_alpha = abs(C1 * Alpha_pos[j] - Positions[i, j]);  # Equation (3.5)-part 1\n",
        "                X1 = Alpha_pos[j] - A1 * D_alpha;  # Equation (3.6)-part 1\n",
        "\n",
        "                r1 = random.random()\n",
        "                r2 = random.random()\n",
        "\n",
        "                A2 = 2 * a * r1 - a;  # Equation (3.3)\n",
        "                C2 = 2 * r2;  # Equation (3.4)\n",
        "\n",
        "                D_beta = abs(C2 * Beta_pos[j] - Positions[i, j]);  # Equation (3.5)-part 2\n",
        "                X2 = Beta_pos[j] - A2 * D_beta;  # Equation (3.6)-part 2\n",
        "\n",
        "                r1 = random.random()\n",
        "                r2 = random.random()\n",
        "\n",
        "                A3 = 2 * a * r1 - a;  # Equation (3.3)\n",
        "                C3 = 2 * r2;  # Equation (3.4)\n",
        "\n",
        "                D_delta = abs(C3 * Delta_pos[j] - Positions[i, j]);  # Equation (3.5)-part 3\n",
        "                X3 = Delta_pos[j] - A3 * D_delta;  # Equation (3.5)-part 3\n",
        "\n",
        "                Positions[i, j] = (X1 + X2 + X3) / 3  # Equation (3.7)\n",
        "\n",
        "        Convergence_curve[l] = Alpha_score;\n",
        "\n",
        "        if (l % 1 == 0):\n",
        "            print(['At iteration ' + str(l) + ' the best fitness is ' + str(Alpha_score)])\n",
        "\n",
        "    x = np.arange(0, Max_iter, dtype=int) + 1\n",
        "    timerEnd = time.time()\n",
        "    print('Completed in', (timerEnd - timerStart))\n",
        "    fire = (timerEnd - timerStart)\n",
        "    plt.plot(x, Convergence_curve, 'o-')\n",
        "    plt.xlabel(\"Iterations\")\n",
        "    plt.ylabel(\"Fitness\")\n",
        "    plt.title(\n",
        "        f\"Convergence_curve for GWO for parameter including population \"\n",
        "        f\"{SearchAgents_no}, \\niteration {Max_iter},and  max fitness is:{min(Convergence_curve)}\")\n",
        "    plt.show()\n",
        "\n",
        "    opts ={\"p\":Alpha_pos,'c':min(Convergence_curve),\"ti\":fire}\n",
        "\n",
        "    return opts"
      ]
    },
    {
      "cell_type": "code",
      "execution_count": null,
      "metadata": {
        "colab": {
          "base_uri": "https://localhost:8080/",
          "height": 641
        },
        "id": "os2fPwGqTKT1",
        "outputId": "a66caf51-068d-4de1-e2ce-c17dc91600d2"
      },
      "outputs": [
        {
          "output_type": "stream",
          "name": "stdout",
          "text": [
            "GWO is optimizing  \"fitness_function\"\n",
            "['At iteration 0 the best fitness is 0.5371409749670619']\n",
            "['At iteration 1 the best fitness is 0.5170409300844083']\n",
            "['At iteration 2 the best fitness is 0.5170409300844083']\n",
            "['At iteration 3 the best fitness is 0.5170409300844083']\n",
            "['At iteration 4 the best fitness is 0.5098584428715874']\n",
            "Completed in 11.427290916442871\n"
          ]
        },
        {
          "output_type": "display_data",
          "data": {
            "image/png": "[encoded data removed]",
            "text/plain": [
              "<Figure size 432x288 with 1 Axes>"
            ]
          },
          "metadata": {
            "needs_background": "light"
          }
        },
        {
          "output_type": "stream",
          "name": "stdout",
          "text": [
            "[  3   4   7   8  10  13  15  20  21  23  24  25  31  32  35  36  40  44\n",
            "  48  49  50  52  54  57  59  60  62  64  66  69  71  72  75  76  77  79\n",
            "  84  97 100 107 108 110 111 115 117 118 119 120 121 122 125 127 132 133\n",
            " 137 140 141 142 148 150 151 154 155 156 158 159 160 161 162 171 174 177\n",
            " 179 181 183 184 188 190 192 193 197 199 200 207 208 209]\n"
          ]
        },
        {
          "output_type": "execute_result",
          "data": {
            "application/vnd.google.colaboratory.intrinsic+json": {
              "type": "string"
            },
            "text/plain": [
              "'\\nfor i in range(15, 25, 5):\\n    col = []\\n    print(f\"at poulation of {i}\")\\n    for j in range(100, 600, 100):\\n        print(f\" at iteration of {j}\")\\n        row = []\\n        data = GWO(fitness_function, 0, 1, num_features, i, j)\\n        fit, cost, timefire = data[\\'p\\'], data[\\'c\\'], data[\\'ti\\']\\n        selected_features = np.where(fit > 0.5)[0]\\n        # selected_features = [9,13,14,39]\\n        print(selected_features)\\n        for o in range(1):\\n            row=[]\\n            row.append(213)\\n            row.append(j)\\n            row.append(i)\\n            row.append(selected_features)\\n            row.append(cost)\\n            row.append(len(selected_features))\\n            row.append(timefire)\\n        print(row)\\n        col.append(row)\\n        if j== 500:\\n            head = [\"No. of features\", \"No. of iteration\", \"Population size\", \"Features Selected\", \"fitness value\",\\n                    \"Features number\", \"Time of exceution\"]\\n            print(tabulate(col, headers=head, tablefmt=\"fancy_grid\"))\\n'"
            ]
          },
          "metadata": {},
          "execution_count": 3
        }
      ],
      "source": [
        "import numpy as np\n",
        "import pandas as pd\n",
        "from sklearn.model_selection import train_test_split\n",
        "from sklearn.neighbors import KNeighborsClassifier\n",
        "from tabulate import tabulate\n",
        "\n",
        "\n",
        "num_features = 213\n",
        "\n",
        "\n",
        "def fitness_function(positions):\n",
        "    features = np.where(positions >= 0.4999)[0]\n",
        "    # print('selected_features:', features)\n",
        "\n",
        "    # print(train_df.head())\n",
        "    data = pd.read_csv('/content/drive/MyDrive/final_csv.csv')\n",
        "    train_data, test_data = train_test_split(data)\n",
        "    train_x, test_x, train_y, test_y = train_data.iloc[:, :num_features], test_data.iloc[:,\n",
        "                                                                          :num_features], train_data.iloc[\n",
        "                                                                                          :,\n",
        "                                                                                          -1], test_data.iloc[\n",
        "                                                                                               :, -1]\n",
        "\n",
        "    train_xf = train_x.iloc[:, features]\n",
        "    test_xf = test_x.iloc[:, features]\n",
        "\n",
        "    knn_classifier = KNeighborsClassifier(n_neighbors=7)\n",
        "    # knn_classifier = svm.SVC()\n",
        "    # knn_classifier  = xgb.XGBClassifier(n_estimators=200, max_depth=9, learning_rate=0.1)\n",
        "    # knn_classifier  =RandomForestClassifier(n_estimators=100, n_jobs=14)\n",
        "    knn_classifier.fit(train_xf, train_y)\n",
        "\n",
        "    accuracy = knn_classifier.score(test_xf, test_y)\n",
        "\n",
        "    # print('Accuracy:', accuracy)\n",
        "\n",
        "    w = 0.9\n",
        "\n",
        "    return w * accuracy + (1 - w) * 1 / (len(features))\n",
        "\n",
        "data = GWO(fitness_function, 0, 1, num_features, 5, 5)\n",
        "fit, cost, timefire = data['p'], data['c'], data['ti']\n",
        "selected_features = np.where(fit > 0.5)[0]\n",
        "        # selected_features = [9,13,14,39]\n",
        "print(selected_features)\n",
        "# Load the data\n",
        "\"\"\"\n",
        "for i in range(15, 25, 5):\n",
        "    col = []\n",
        "    print(f\"at poulation of {i}\")\n",
        "    for j in range(100, 600, 100):\n",
        "        print(f\" at iteration of {j}\")\n",
        "        row = []\n",
        "        data = GWO(fitness_function, 0, 1, num_features, i, j)\n",
        "        fit, cost, timefire = data['p'], data['c'], data['ti']\n",
        "        selected_features = np.where(fit > 0.5)[0]\n",
        "        # selected_features = [9,13,14,39]\n",
        "        print(selected_features)\n",
        "        for o in range(1):\n",
        "            row=[]\n",
        "            row.append(213)\n",
        "            row.append(j)\n",
        "            row.append(i)\n",
        "            row.append(selected_features)\n",
        "            row.append(cost)\n",
        "            row.append(len(selected_features))\n",
        "            row.append(timefire)\n",
        "        print(row)\n",
        "        col.append(row)\n",
        "        if j== 500:\n",
        "            head = [\"No. of features\", \"No. of iteration\", \"Population size\", \"Features Selected\", \"fitness value\",\n",
        "                    \"Features number\", \"Time of exceution\"]\n",
        "            print(tabulate(col, headers=head, tablefmt=\"fancy_grid\"))\n",
        "\"\"\""
      ]
    },
    {
      "cell_type": "code",
      "execution_count": null,
      "metadata": {
        "id": "wNiTa1d2R2iF"
      },
      "outputs": [],
      "source": [
        "train_x = train_x.iloc[:, selected_features]\n",
        "test_x = test_x.iloc[:, selected_features]"
      ]
    },
    {
      "cell_type": "code",
      "execution_count": null,
      "metadata": {
        "id": "jVauW9sSdoMW"
      },
      "outputs": [],
      "source": [
        "from sklearn.metrics import f1_score\n",
        "import time\n",
        "import matplotlib.pyplot as plt\n",
        "import pandas as pd\n",
        "import xgboost as xgb\n",
        "from sklearn.svm import SVC\n",
        "from sklearn.ensemble import RandomForestClassifier\n",
        "from sklearn.metrics import accuracy_score\n",
        "from sklearn.metrics import confusion_matrix, cohen_kappa_score, matthews_corrcoef\n",
        "from sklearn.metrics import f1_score\n",
        "from sklearn.metrics import roc_curve, roc_auc_score\n",
        "from sklearn.model_selection import train_test_split\n",
        "from sklearn.neighbors import KNeighborsClassifier\n",
        "from sklearn.pipeline import Pipeline\n",
        "from sklearn.preprocessing import StandardScaler, MinMaxScaler\n",
        "from tabulate import tabulate\n",
        "from sklearn.metrics import classification_report"
      ]
    },
    {
      "cell_type": "code",
      "execution_count": null,
      "metadata": {
        "colab": {
          "base_uri": "https://localhost:8080/"
        },
        "id": "KGTGSGChuP8h",
        "outputId": "d72955a1-a4cf-40cf-d38b-393005a4d4b7"
      },
      "outputs": [
        {
          "output_type": "stream",
          "name": "stdout",
          "text": [
            "3, 4, 6, 7, 10, 11, 12, 13, 14, 16, 17\n",
            "[3, 4, 6, 7, 10, 11, 12, 13, 14, 16, 17]\n"
          ]
        }
      ],
      "source": [
        "num_features = 213\n",
        "selected_features = []\n",
        "selected_features =  [int(x) for x in input().split(\",\")]\n",
        "print(selected_features)\n",
        "data_df = pd.read_excel('/content/featurestranspose.xlsx')\n",
        "data_df.drop('sno.', inplace=True, axis=1)\n",
        "train_data, test_data = train_test_split(data_df)\n",
        "train_x, test_x, train_y, test_y = train_data.iloc[:, :num_features], test_data.iloc[:, :num_features], train_data.iloc[:, -1], test_data.iloc[:, -1]\n",
        "train_x = train_x.iloc[:, selected_features]\n",
        "test_x = test_x.iloc[:, selected_features]"
      ]
    },
    {
      "cell_type": "code",
      "execution_count": null,
      "metadata": {
        "colab": {
          "base_uri": "https://localhost:8080/"
        },
        "id": "CpZJqDWd9KUg",
        "outputId": "201a0b8e-814d-44f1-b176-3182edb6dc46"
      },
      "outputs": [
        {
          "output_type": "stream",
          "name": "stdout",
          "text": [
            "[[19  1]\n",
            " [ 1 14]]\n",
            "0.9428571428571428\n",
            "sensitivity:0.9333333333333333 \n",
            " precision:0.9333333333333333 \n",
            " F1-score:0.9428571428571428\n",
            "MCC:0.8833333333333333 \n",
            " kappa score:0.8833333333333333 \n",
            " specificity:0.95\n",
            "              precision    recall  f1-score   support\n",
            "\n",
            "           0       0.95      0.95      0.95        20\n",
            "           1       0.93      0.93      0.93        15\n",
            "\n",
            "    accuracy                           0.94        35\n",
            "   macro avg       0.94      0.94      0.94        35\n",
            "weighted avg       0.94      0.94      0.94        35\n",
            "\n"
          ]
        }
      ],
      "source": [
        "rf_classifier =Pipeline([('s',StandardScaler() ),('t',MinMaxScaler()),\n",
        "                               ('m',RandomForestClassifier(n_estimators=100, n_jobs=20))])\n",
        "rf_classifier.fit(train_x, train_y)\n",
        "\n",
        "\n",
        "predictedrfp = rf_classifier.predict_proba(test_x)[:, 1]\n",
        "predictedrf = rf_classifier.predict(test_x)\n",
        "print(confusion_matrix(test_y, predictedrf))\n",
        "print(accuracy_score(test_y, predictedrf))\n",
        "tn, fp, fn, tp = confusion_matrix(test_y,predictedrf).ravel()\n",
        "specificityrf = tn / (tn+fp)\n",
        "kapparf=cohen_kappa_score(predictedrf,test_y,weights='quadratic')\n",
        "MCCrf = matthews_corrcoef(test_y, predictedrf)\n",
        "semsrf =  (tp)/(tp + fn)\n",
        "prerf = tp / (tp + fp)\n",
        "accrf= accuracy_score(test_y, predictedrf)\n",
        "f1rf = f1_score(test_y,predictedrf,average='weighted')\n",
        "print(f\"sensitivity:{semsrf} \\n precision:{prerf} \\n F1-score:{f1rf}\")\n",
        "print(f\"MCC:{MCCrf} \\n kappa score:{kapparf} \\n specificity:{specificityrf}\")\n",
        "print(classification_report(test_y, predictedrf))"
      ]
    },
    {
      "cell_type": "code",
      "execution_count": null,
      "metadata": {
        "colab": {
          "base_uri": "https://localhost:8080/"
        },
        "id": "N979xlDp9R3p",
        "outputId": "45b5b3bf-06eb-4628-f49b-92fd59ac8c6e"
      },
      "outputs": [
        {
          "output_type": "stream",
          "name": "stdout",
          "text": [
            "[[18  2]\n",
            " [ 2 13]]\n",
            "0.8857142857142857\n",
            "sensitivity:0.8666666666666667 \n",
            " precision:0.8666666666666667 \n",
            " F1-score:0.8857142857142857\n",
            "MCC:0.7666666666666667 \n",
            " kappa score:0.7666666666666666 \n",
            " specificity:0.9\n",
            "              precision    recall  f1-score   support\n",
            "\n",
            "           0       0.90      0.90      0.90        20\n",
            "           1       0.87      0.87      0.87        15\n",
            "\n",
            "    accuracy                           0.89        35\n",
            "   macro avg       0.88      0.88      0.88        35\n",
            "weighted avg       0.89      0.89      0.89        35\n",
            "\n"
          ]
        }
      ],
      "source": [
        "knn_classifier =Pipeline([('s',StandardScaler() ),('t',MinMaxScaler()),\n",
        "                               ('m',KNeighborsClassifier(n_neighbors=50))])\n",
        "knn_classifier.fit(train_x, train_y)\n",
        "\n",
        "predictedp= knn_classifier.predict_proba(test_x)[:, 1]\n",
        "predicted = knn_classifier.predict(test_x)\n",
        "print(confusion_matrix(test_y, predicted))\n",
        "print(accuracy_score(test_y, predicted))\n",
        "tn, fp, fn, tp = confusion_matrix(test_y,predicted).ravel()\n",
        "specificitykn = tn / (tn+fp)\n",
        "kappakn=cohen_kappa_score(predicted,test_y,weights='quadratic')\n",
        "MCCkn = matthews_corrcoef(test_y, predicted)\n",
        "semskn =  (tp)/(tp + fn)\n",
        "prekn = tp / (tp + fp)\n",
        "acckn= accuracy_score(test_y, predicted)\n",
        "f1kn = f1_score(test_y,predicted,average='weighted')\n",
        "print(f\"sensitivity:{semskn} \\n precision:{prekn} \\n F1-score:{f1kn}\")\n",
        "print(f\"MCC:{MCCkn} \\n kappa score:{kappakn} \\n specificity:{specificitykn}\")\n",
        "print(classification_report(test_y, predicted))"
      ]
    },
    {
      "cell_type": "code",
      "execution_count": null,
      "metadata": {
        "colab": {
          "base_uri": "https://localhost:8080/"
        },
        "id": "haTLYKR9-WC5",
        "outputId": "2653660b-7f0b-4530-b75e-09ece1a685c3"
      },
      "outputs": [
        {
          "output_type": "stream",
          "name": "stdout",
          "text": [
            "[[17  3]\n",
            " [ 1 14]]\n",
            "0.8857142857142857\n",
            "sensitivity:0.9333333333333333 \n",
            " precision:0.8235294117647058 \n",
            " F1-score:0.8862781954887217\n",
            "MCC:0.7756155753317282 \n",
            " kappa score:0.7704918032786885 \n",
            " specificity:0.85\n",
            "              precision    recall  f1-score   support\n",
            "\n",
            "           0       0.94      0.85      0.89        20\n",
            "           1       0.82      0.93      0.87        15\n",
            "\n",
            "    accuracy                           0.89        35\n",
            "   macro avg       0.88      0.89      0.88        35\n",
            "weighted avg       0.89      0.89      0.89        35\n",
            "\n"
          ]
        }
      ],
      "source": [
        "#svm_classifier =Pipeline([('s',StandardScaler() ),('t',MinMaxScaler()),\n",
        "#                               ('m',svm.SVC(kernel='rbf',random_state=0, tol=1e-5))])\n",
        "#svm_classifier.fit(train_x, train_y)\n",
        "\n",
        "from sklearn.ensemble import BaggingClassifier\n",
        "svm =Pipeline([('s',StandardScaler() ),('t',MinMaxScaler()),\n",
        "                             ('m',SVC(kernel='linear',random_state=500, tol=1e-5))])\n",
        "svm_classifier = BaggingClassifier(base_estimator=svm, n_estimators=100, random_state=500)\n",
        "svm_classifier.fit(train_x, train_y)\n",
        "predictedsvm = svm_classifier.predict(test_x)\n",
        "print(confusion_matrix(test_y, predictedsvm))\n",
        "print(accuracy_score(test_y, predictedsvm))\n",
        "tn, fp, fn, tp = confusion_matrix(test_y,predictedsvm).ravel()\n",
        "specificitysvm = tn / (tn+fp)\n",
        "kappasvm=cohen_kappa_score(predictedsvm,test_y,weights='quadratic')\n",
        "MCCsvm = matthews_corrcoef(test_y, predictedsvm)\n",
        "semssvm =  (tp)/(tp + fn)\n",
        "presvm = tp / (tp + fp)\n",
        "accsvm= accuracy_score(test_y, predictedsvm)\n",
        "f1svm = f1_score(test_y,predictedsvm,average='weighted')\n",
        "print(f\"sensitivity:{semssvm} \\n precision:{presvm} \\n F1-score:{f1svm}\")\n",
        "print(f\"MCC:{MCCsvm} \\n kappa score:{kappasvm} \\n specificity:{specificitysvm}\")\n",
        "print(classification_report(test_y, predictedsvm))"
      ]
    },
    {
      "cell_type": "code",
      "execution_count": null,
      "metadata": {
        "colab": {
          "base_uri": "https://localhost:8080/"
        },
        "id": "9h6530ey-Vrm",
        "outputId": "6a2476d8-8b36-4bcc-c683-4f9e230fe5ae"
      },
      "outputs": [
        {
          "output_type": "stream",
          "name": "stdout",
          "text": [
            "[[18  2]\n",
            " [ 0 15]]\n",
            "0.9428571428571428\n",
            "sensitivity:1.0 \n",
            " precision:0.8823529411764706 \n",
            " F1-score:0.9431390977443609\n",
            "MCC:0.8911327886790068 \n",
            " kappa score:0.8852459016393442 \n",
            " specificity:0.9\n",
            "              precision    recall  f1-score   support\n",
            "\n",
            "           0       1.00      0.90      0.95        20\n",
            "           1       0.88      1.00      0.94        15\n",
            "\n",
            "    accuracy                           0.94        35\n",
            "   macro avg       0.94      0.95      0.94        35\n",
            "weighted avg       0.95      0.94      0.94        35\n",
            "\n"
          ]
        }
      ],
      "source": [
        "xgb_classifier =Pipeline([('s',StandardScaler() ),('t',MinMaxScaler()),\n",
        "                               ('m',xgb.XGBClassifier(n_estimators=200, max_depth=150, learning_rate=0.1))])\n",
        "xgb_classifier.fit(train_x, train_y)\n",
        "\n",
        "predictedxgbp = xgb_classifier.predict_proba(test_x)[:, 1]\n",
        "predictedxgb = xgb_classifier.predict(test_x)\n",
        "print(confusion_matrix(test_y, predictedxgb))\n",
        "print(accuracy_score(test_y, predictedxgb))\n",
        "tn, fp, fn, tp = confusion_matrix(test_y,predictedxgb).ravel()\n",
        "specificityxg = tn / (tn+fp)\n",
        "kappaxg=cohen_kappa_score(predictedxgb,test_y,weights='quadratic')\n",
        "MCCxg = matthews_corrcoef(test_y, predictedxgb)\n",
        "semsxg =  (tp)/(tp + fn)\n",
        "prexg = tp / (tp + fp)\n",
        "accxg= accuracy_score(test_y, predictedxgb)\n",
        "f1xg = f1_score(test_y,predictedxgb,average='weighted')\n",
        "print(f\"sensitivity:{semsxg} \\n precision:{prexg} \\n F1-score:{f1xg}\")\n",
        "print(f\"MCC:{MCCxg} \\n kappa score:{kappaxg} \\n specificity:{specificityxg}\")\n",
        "print(classification_report(test_y, predictedxgb))"
      ]
    },
    {
      "cell_type": "code",
      "execution_count": null,
      "metadata": {
        "colab": {
          "base_uri": "https://localhost:8080/"
        },
        "id": "SYH7SnsN4ii_",
        "outputId": "6ad26e3f-58e2-479d-c965-59884ca3a847"
      },
      "outputs": [
        {
          "output_type": "stream",
          "name": "stdout",
          "text": [
            "[[18  2]\n",
            " [ 1 14]]\n",
            "0.9142857142857143\n",
            "sensitivity:0.9333333333333333 \n",
            " precision:0.875 \n",
            " F1-score:0.914569301666076\n",
            "MCC:0.8278327231656525 \n",
            " kappa score:0.8264462809917356 \n",
            " specificity:0.9\n",
            "              precision    recall  f1-score   support\n",
            "\n",
            "           0       0.95      0.90      0.92        20\n",
            "           1       0.88      0.93      0.90        15\n",
            "\n",
            "    accuracy                           0.91        35\n",
            "   macro avg       0.91      0.92      0.91        35\n",
            "weighted avg       0.92      0.91      0.91        35\n",
            "\n"
          ]
        }
      ],
      "source": [
        "from sklearn.ensemble import StackingClassifier\n",
        "from sklearn.pipeline import make_pipeline\n",
        "estimators = [('rf', RandomForestClassifier(n_estimators=100, n_jobs=50)),\n",
        "              ('svm', make_pipeline(StandardScaler(),MinMaxScaler(),SVC(kernel='linear',random_state=50, tol=1e-5)))]\n",
        "clf = StackingClassifier(estimators=estimators,\n",
        "                         final_estimator=xgb.XGBClassifier(n_estimators=100, max_depth=50, learning_rate=0.1))\n",
        "#clf = BaggingClassifier(base_estimator=clf, n_estimators=100, random_state=500)\n",
        "clf.fit(train_x, train_y)\n",
        "predictedenp = clf.predict_proba(test_x)[:, 1]\n",
        "predicteden = clf.predict(test_x)\n",
        "print(confusion_matrix(test_y, predicteden))\n",
        "print(accuracy_score(test_y, predicteden))\n",
        "tn, fp, fn, tp = confusion_matrix(test_y,predicteden).ravel()\n",
        "specificityen = tn / (tn+fp)\n",
        "kappaen=cohen_kappa_score(predicteden,test_y,weights='quadratic')\n",
        "MCCen = matthews_corrcoef(test_y, predicteden)\n",
        "semsen =  (tp)/(tp + fn)\n",
        "preen = tp / (tp + fp)\n",
        "accen= accuracy_score(test_y, predicteden)\n",
        "f1en = f1_score(test_y,predicteden,average='weighted')\n",
        "print(f\"sensitivity:{semsen} \\n precision:{preen} \\n F1-score:{f1en}\")\n",
        "print(f\"MCC:{MCCen} \\n kappa score:{kappaen} \\n specificity:{specificityen}\")\n",
        "print(classification_report(test_y, predicteden))\n"
      ]
    },
    {
      "cell_type": "code",
      "execution_count": null,
      "metadata": {
        "colab": {
          "base_uri": "https://localhost:8080/",
          "height": 467
        },
        "id": "aaef13gCjAg3",
        "outputId": "73712740-151b-4de0-add5-ae0fc5bad3fc"
      },
      "outputs": [
        {
          "output_type": "display_data",
          "data": {
            "text/plain": [
              "<Figure size 864x504 with 1 Axes>"
            ],
            "image/png": "[encoded data removed]"
          },
          "metadata": {
            "needs_background": "light"
          }
        }
      ],
      "source": [
        "import matplotlib.pyplot as plt\n",
        "from sklearn.metrics import roc_curve, roc_auc_score\n",
        "\n",
        "\n",
        "auc_knn = roc_auc_score(test_y, predictedp)\n",
        "fpr_knn, tpr_knn, thresholds_knn = roc_curve(test_y, predictedp)\n",
        "\n",
        "auc_svm = roc_auc_score(test_y, predictedsvm)\n",
        "fpr_svm, tpr_svm, thresholds_svm = roc_curve(test_y, predictedsvm)\n",
        "\n",
        "auc_rf = roc_auc_score(test_y, predictedrfp)\n",
        "fpr_rf, tpr_rf, thresholds_rf = roc_curve(test_y, predictedrfp)\n",
        "\n",
        "auc_xg = roc_auc_score(test_y, predictedxgbp)\n",
        "fpr_xg, tpr_xg, thresholds_xg = roc_curve(test_y, predictedxgbp)\n",
        "\n",
        "auc_en = roc_auc_score(test_y, predictedenp)\n",
        "fpr_en, tpr_en, thresholds_en = roc_curve(test_y, predictedenp)\n",
        "\n",
        "\n",
        "plt.figure(figsize=(12, 7))\n",
        "plt.plot(fpr_knn, tpr_knn, label=f'AUC (K-NN) = {auc_knn:.2f}')\n",
        "plt.plot(fpr_svm, tpr_svm, label=f'AUC (Support Vector Machine) = {auc_svm:.2f}')\n",
        "plt.plot(fpr_rf, tpr_rf, label=f'AUC (Random Forests) = {auc_rf:.2f}')\n",
        "plt.plot(fpr_xg, tpr_xg, label=f'AUC (XGBoost) = {auc_xg:.2f}')\n",
        "plt.plot(fpr_en, tpr_en, label=f'AUC (Stack Enseble) = {auc_en:.2f}')\n",
        "plt.plot([0, 1], [0, 1], color='blue', linestyle='--', label='Baseline')\n",
        "plt.title('ROC Curve', size=20)\n",
        "plt.xlabel('False Positive Rate', size=14)\n",
        "plt.ylabel('True Positive Rate', size=14)\n",
        "plt.legend();"
      ]
    },
    {
      "cell_type": "code",
      "execution_count": null,
      "metadata": {
        "colab": {
          "base_uri": "https://localhost:8080/"
        },
        "id": "mSfR6age7-0Y",
        "outputId": "bed40ec5-fc8f-47e9-ebaf-b50e9fc43fbd"
      },
      "outputs": [
        {
          "output_type": "stream",
          "name": "stdout",
          "text": [
            "╒════════════════╤═══════════════╤═══════════════╤═══════════════╤═════════════╤════════════╤══════════╤════════════╤══════════╕\n",
            "│ name           │   specificity │   specificity │   kappa score │   precision │   F1-score │      MCC │   Accuracy │      auc │\n",
            "╞════════════════╪═══════════════╪═══════════════╪═══════════════╪═════════════╪════════════╪══════════╪════════════╪══════════╡\n",
            "│ Random Forest  │          0.95 │      0.933333 │      0.883333 │    0.933333 │   0.942857 │ 0.883333 │   0.942857 │ 0.988333 │\n",
            "├────────────────┼───────────────┼───────────────┼───────────────┼─────────────┼────────────┼──────────┼────────────┼──────────┤\n",
            "│ KNN            │          0.9  │      0.866667 │      0.766667 │    0.866667 │   0.885714 │ 0.766667 │   0.885714 │ 0.948333 │\n",
            "├────────────────┼───────────────┼───────────────┼───────────────┼─────────────┼────────────┼──────────┼────────────┼──────────┤\n",
            "│ SVM            │          0.85 │      0.933333 │      0.770492 │    0.823529 │   0.886278 │ 0.775616 │   0.885714 │ 0.891667 │\n",
            "├────────────────┼───────────────┼───────────────┼───────────────┼─────────────┼────────────┼──────────┼────────────┼──────────┤\n",
            "│ XGBoost        │          0.9  │      1        │      0.885246 │    0.882353 │   0.943139 │ 0.891133 │   0.942857 │ 0.996667 │\n",
            "├────────────────┼───────────────┼───────────────┼───────────────┼─────────────┼────────────┼──────────┼────────────┼──────────┤\n",
            "│ Stack Ensemble │          0.9  │      0.933333 │      0.826446 │    0.875    │   0.914569 │ 0.827833 │   0.914286 │ 0.99     │\n",
            "╘════════════════╧═══════════════╧═══════════════╧═══════════════╧═════════════╧════════════╧══════════╧════════════╧══════════╛\n"
          ]
        }
      ],
      "source": [
        "from tabulate import tabulate\n",
        "\n",
        "knn =\"KNN\"\n",
        "en= \"Stack Enseble \"\n",
        "# assign data\n",
        "mydata = [[\"Random Forest\", specificityrf, semsrf, kapparf, prerf, f1rf, MCCrf, accrf, auc_rf],\n",
        "          [\"KNN\", specificitykn, semskn, kappakn, prekn, f1kn, MCCkn, acckn, auc_knn],\n",
        "          [\"SVM\", specificitysvm, semssvm, kappasvm, presvm, f1svm, MCCsvm, accsvm, auc_svm],\n",
        "          [\"XGBoost\", specificityxg, semsxg, kappaxg, prexg, f1xg, MCCxg, accxg, auc_xg],\n",
        "          [\"Stack Ensemble \", specificityen, semsen, kappaen, preen, f1en, MCCen, accen, auc_en]]\n",
        "\n",
        "# create header\n",
        "head = [\"name\",\"specificity\",\"specificity\",\"kappa score\",\"precision\",\"F1-score\",\"MCC\",\"Accuracy\",\"auc\"]\n",
        "\n",
        "# display table\n",
        "print(tabulate(mydata, headers=head, tablefmt=\"fancy_grid\"))"
      ]
    }
  ],
  "metadata": {
    "colab": {
      "provenance": [],
      "include_colab_link": true
    },
    "kernelspec": {
      "display_name": "Python 3",
      "name": "python3"
    },
    "language_info": {
      "name": "python"
    }
  },
  "nbformat": 4,
  "nbformat_minor": 0
}